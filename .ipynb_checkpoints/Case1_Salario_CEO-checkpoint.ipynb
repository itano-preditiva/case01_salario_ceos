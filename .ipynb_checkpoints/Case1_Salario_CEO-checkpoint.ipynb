{
 "cells": [
  {
   "cell_type": "markdown",
   "metadata": {},
   "source": [
    "<img src=\"https://s3-sa-east-1.amazonaws.com/preditiva.ai/diversos/preditiva_assinatura.jpg\">\n",
    "\n",
    "# Regressão Linear Múltipla"
   ]
  },
  {
   "cell_type": "markdown",
   "metadata": {},
   "source": [
    "## Case 1: Salários de CEOs"
   ]
  },
  {
   "cell_type": "markdown",
   "metadata": {},
   "source": [
    "Uma consultoria americana foi contratada para estimar o efeito da valor de mercado sobre o salário do CEO de empresas americanas. O cliente sugeriu o seguinte modelo:"
   ]
  },
  {
   "cell_type": "markdown",
   "metadata": {},
   "source": [
    " salario = ${\\beta}_{0}+{\\beta}_{1}*anos empresa + {\\beta}_{2}*anos como ceo + {\\beta}_{3}*vendas totais + {\\beta}_{4}*valuation + {\\beta}_{5}*margem  $"
   ]
  },
  {
   "cell_type": "markdown",
   "metadata": {},
   "source": [
    "em que:\n",
    "\n",
    "`anos empresa` são os anos totais de trabalho na empresa;<br>\n",
    "`anos como ceo` são os anos de trabalhando como CEO na empresa;<br>\n",
    "`vendas totais` são as vendas totais da empresa, em milhões de dólares;<br>\n",
    "`valuation` é o valor de mercado da empresa, em milhões de dólares; ⁡<br>\n",
    "`margem` é o lucro como porcentagem das vendas;"
   ]
  },
  {
   "cell_type": "markdown",
   "metadata": {},
   "source": [
    "Com posse da base fornecida pelo cliente `salario_ceo.csv`, responda:\n",
    "\n",
    "**É possível estimar o salário de CEOs a partir das variáveis fornecidas?**"
   ]
  },
  {
   "cell_type": "markdown",
   "metadata": {},
   "source": [
    "### Importação das bibliotecas"
   ]
  },
  {
   "cell_type": "code",
   "execution_count": 1,
   "metadata": {},
   "outputs": [],
   "source": [
    "# Pacotes de manipulação de dados\n",
    "import numpy as np\n",
    "import pandas as pd\n",
    "\n",
    "# Pacotes gráficos\n",
    "import matplotlib.pyplot as plt\n",
    "import seaborn as sns\n",
    "\n",
    "# Pacotes de data science\n",
    "import statsmodels.api as sm"
   ]
  },
  {
   "cell_type": "markdown",
   "metadata": {},
   "source": [
    "### Importação da base de dados"
   ]
  },
  {
   "cell_type": "code",
   "execution_count": 3,
   "metadata": {},
   "outputs": [
    {
     "data": {
      "text/html": [
       "<div>\n",
       "<style scoped>\n",
       "    .dataframe tbody tr th:only-of-type {\n",
       "        vertical-align: middle;\n",
       "    }\n",
       "\n",
       "    .dataframe tbody tr th {\n",
       "        vertical-align: top;\n",
       "    }\n",
       "\n",
       "    .dataframe thead th {\n",
       "        text-align: right;\n",
       "    }\n",
       "</style>\n",
       "<table border=\"1\" class=\"dataframe\">\n",
       "  <thead>\n",
       "    <tr style=\"text-align: right;\">\n",
       "      <th></th>\n",
       "      <th>anos_empresa</th>\n",
       "      <th>anos_como_ceo</th>\n",
       "      <th>salario</th>\n",
       "      <th>vendas_totais</th>\n",
       "      <th>valuation</th>\n",
       "      <th>margem</th>\n",
       "    </tr>\n",
       "  </thead>\n",
       "  <tbody>\n",
       "    <tr>\n",
       "      <th>0</th>\n",
       "      <td>9</td>\n",
       "      <td>2</td>\n",
       "      <td>1161</td>\n",
       "      <td>6200</td>\n",
       "      <td>23200</td>\n",
       "      <td>15.6</td>\n",
       "    </tr>\n",
       "    <tr>\n",
       "      <th>1</th>\n",
       "      <td>10</td>\n",
       "      <td>10</td>\n",
       "      <td>600</td>\n",
       "      <td>283</td>\n",
       "      <td>1100</td>\n",
       "      <td>17.0</td>\n",
       "    </tr>\n",
       "    <tr>\n",
       "      <th>2</th>\n",
       "      <td>9</td>\n",
       "      <td>3</td>\n",
       "      <td>378</td>\n",
       "      <td>169</td>\n",
       "      <td>1100</td>\n",
       "      <td>23.7</td>\n",
       "    </tr>\n",
       "    <tr>\n",
       "      <th>3</th>\n",
       "      <td>22</td>\n",
       "      <td>22</td>\n",
       "      <td>650</td>\n",
       "      <td>1100</td>\n",
       "      <td>999</td>\n",
       "      <td>-4.9</td>\n",
       "    </tr>\n",
       "    <tr>\n",
       "      <th>4</th>\n",
       "      <td>8</td>\n",
       "      <td>6</td>\n",
       "      <td>496</td>\n",
       "      <td>350</td>\n",
       "      <td>387</td>\n",
       "      <td>8.0</td>\n",
       "    </tr>\n",
       "    <tr>\n",
       "      <th>...</th>\n",
       "      <td>...</td>\n",
       "      <td>...</td>\n",
       "      <td>...</td>\n",
       "      <td>...</td>\n",
       "      <td>...</td>\n",
       "      <td>...</td>\n",
       "    </tr>\n",
       "    <tr>\n",
       "      <th>172</th>\n",
       "      <td>42</td>\n",
       "      <td>3</td>\n",
       "      <td>263</td>\n",
       "      <td>334</td>\n",
       "      <td>479</td>\n",
       "      <td>12.9</td>\n",
       "    </tr>\n",
       "    <tr>\n",
       "      <th>173</th>\n",
       "      <td>39</td>\n",
       "      <td>1</td>\n",
       "      <td>185</td>\n",
       "      <td>765</td>\n",
       "      <td>560</td>\n",
       "      <td>6.4</td>\n",
       "    </tr>\n",
       "    <tr>\n",
       "      <th>174</th>\n",
       "      <td>32</td>\n",
       "      <td>13</td>\n",
       "      <td>387</td>\n",
       "      <td>432</td>\n",
       "      <td>477</td>\n",
       "      <td>6.5</td>\n",
       "    </tr>\n",
       "    <tr>\n",
       "      <th>175</th>\n",
       "      <td>18</td>\n",
       "      <td>18</td>\n",
       "      <td>2220</td>\n",
       "      <td>277</td>\n",
       "      <td>539</td>\n",
       "      <td>-28.9</td>\n",
       "    </tr>\n",
       "    <tr>\n",
       "      <th>176</th>\n",
       "      <td>23</td>\n",
       "      <td>0</td>\n",
       "      <td>444</td>\n",
       "      <td>249</td>\n",
       "      <td>827</td>\n",
       "      <td>12.4</td>\n",
       "    </tr>\n",
       "  </tbody>\n",
       "</table>\n",
       "<p>177 rows × 6 columns</p>\n",
       "</div>"
      ],
      "text/plain": [
       "     anos_empresa  anos_como_ceo  salario  vendas_totais  valuation  margem\n",
       "0               9              2     1161           6200      23200    15.6\n",
       "1              10             10      600            283       1100    17.0\n",
       "2               9              3      378            169       1100    23.7\n",
       "3              22             22      650           1100        999    -4.9\n",
       "4               8              6      496            350        387     8.0\n",
       "..            ...            ...      ...            ...        ...     ...\n",
       "172            42              3      263            334        479    12.9\n",
       "173            39              1      185            765        560     6.4\n",
       "174            32             13      387            432        477     6.5\n",
       "175            18             18     2220            277        539   -28.9\n",
       "176            23              0      444            249        827    12.4\n",
       "\n",
       "[177 rows x 6 columns]"
      ]
     },
     "execution_count": 3,
     "metadata": {},
     "output_type": "execute_result"
    }
   ],
   "source": [
    "df = pd.read_csv('salario_ceo.csv', sep=';')\n",
    "df"
   ]
  },
  {
   "cell_type": "markdown",
   "metadata": {},
   "source": [
    "### Análise Exploratória de Dados"
   ]
  },
  {
   "cell_type": "code",
   "execution_count": 4,
   "metadata": {},
   "outputs": [
    {
     "data": {
      "text/html": [
       "<div>\n",
       "<style scoped>\n",
       "    .dataframe tbody tr th:only-of-type {\n",
       "        vertical-align: middle;\n",
       "    }\n",
       "\n",
       "    .dataframe tbody tr th {\n",
       "        vertical-align: top;\n",
       "    }\n",
       "\n",
       "    .dataframe thead th {\n",
       "        text-align: right;\n",
       "    }\n",
       "</style>\n",
       "<table border=\"1\" class=\"dataframe\">\n",
       "  <thead>\n",
       "    <tr style=\"text-align: right;\">\n",
       "      <th></th>\n",
       "      <th>anos_empresa</th>\n",
       "      <th>anos_como_ceo</th>\n",
       "      <th>salario</th>\n",
       "      <th>vendas_totais</th>\n",
       "      <th>valuation</th>\n",
       "      <th>margem</th>\n",
       "    </tr>\n",
       "  </thead>\n",
       "  <tbody>\n",
       "    <tr>\n",
       "      <th>count</th>\n",
       "      <td>177.000000</td>\n",
       "      <td>177.000000</td>\n",
       "      <td>177.000000</td>\n",
       "      <td>177.000000</td>\n",
       "      <td>177.000000</td>\n",
       "      <td>177.000000</td>\n",
       "    </tr>\n",
       "    <tr>\n",
       "      <th>mean</th>\n",
       "      <td>22.502825</td>\n",
       "      <td>7.954802</td>\n",
       "      <td>865.344633</td>\n",
       "      <td>3528.983051</td>\n",
       "      <td>3599.875706</td>\n",
       "      <td>6.423729</td>\n",
       "    </tr>\n",
       "    <tr>\n",
       "      <th>std</th>\n",
       "      <td>12.294735</td>\n",
       "      <td>7.150826</td>\n",
       "      <td>587.637837</td>\n",
       "      <td>6088.636588</td>\n",
       "      <td>6442.307591</td>\n",
       "      <td>17.864245</td>\n",
       "    </tr>\n",
       "    <tr>\n",
       "      <th>min</th>\n",
       "      <td>2.000000</td>\n",
       "      <td>0.000000</td>\n",
       "      <td>99.000000</td>\n",
       "      <td>29.000000</td>\n",
       "      <td>387.000000</td>\n",
       "      <td>-203.100000</td>\n",
       "    </tr>\n",
       "    <tr>\n",
       "      <th>25%</th>\n",
       "      <td>12.000000</td>\n",
       "      <td>3.000000</td>\n",
       "      <td>470.000000</td>\n",
       "      <td>561.000000</td>\n",
       "      <td>644.000000</td>\n",
       "      <td>4.200000</td>\n",
       "    </tr>\n",
       "    <tr>\n",
       "      <th>50%</th>\n",
       "      <td>23.000000</td>\n",
       "      <td>6.000000</td>\n",
       "      <td>707.000000</td>\n",
       "      <td>1399.000000</td>\n",
       "      <td>1200.000000</td>\n",
       "      <td>6.800000</td>\n",
       "    </tr>\n",
       "    <tr>\n",
       "      <th>75%</th>\n",
       "      <td>33.000000</td>\n",
       "      <td>11.000000</td>\n",
       "      <td>1119.000000</td>\n",
       "      <td>3500.000000</td>\n",
       "      <td>3500.000000</td>\n",
       "      <td>10.900000</td>\n",
       "    </tr>\n",
       "    <tr>\n",
       "      <th>max</th>\n",
       "      <td>58.000000</td>\n",
       "      <td>37.000000</td>\n",
       "      <td>5299.000000</td>\n",
       "      <td>51300.000000</td>\n",
       "      <td>45400.000000</td>\n",
       "      <td>47.500000</td>\n",
       "    </tr>\n",
       "  </tbody>\n",
       "</table>\n",
       "</div>"
      ],
      "text/plain": [
       "       anos_empresa  anos_como_ceo      salario  vendas_totais     valuation  \\\n",
       "count    177.000000     177.000000   177.000000     177.000000    177.000000   \n",
       "mean      22.502825       7.954802   865.344633    3528.983051   3599.875706   \n",
       "std       12.294735       7.150826   587.637837    6088.636588   6442.307591   \n",
       "min        2.000000       0.000000    99.000000      29.000000    387.000000   \n",
       "25%       12.000000       3.000000   470.000000     561.000000    644.000000   \n",
       "50%       23.000000       6.000000   707.000000    1399.000000   1200.000000   \n",
       "75%       33.000000      11.000000  1119.000000    3500.000000   3500.000000   \n",
       "max       58.000000      37.000000  5299.000000   51300.000000  45400.000000   \n",
       "\n",
       "           margem  \n",
       "count  177.000000  \n",
       "mean     6.423729  \n",
       "std     17.864245  \n",
       "min   -203.100000  \n",
       "25%      4.200000  \n",
       "50%      6.800000  \n",
       "75%     10.900000  \n",
       "max     47.500000  "
      ]
     },
     "execution_count": 4,
     "metadata": {},
     "output_type": "execute_result"
    }
   ],
   "source": [
    "df.describe()"
   ]
  },
  {
   "cell_type": "code",
   "execution_count": 5,
   "metadata": {},
   "outputs": [
    {
     "data": {
      "text/html": [
       "<div>\n",
       "<style scoped>\n",
       "    .dataframe tbody tr th:only-of-type {\n",
       "        vertical-align: middle;\n",
       "    }\n",
       "\n",
       "    .dataframe tbody tr th {\n",
       "        vertical-align: top;\n",
       "    }\n",
       "\n",
       "    .dataframe thead th {\n",
       "        text-align: right;\n",
       "    }\n",
       "</style>\n",
       "<table border=\"1\" class=\"dataframe\">\n",
       "  <thead>\n",
       "    <tr style=\"text-align: right;\">\n",
       "      <th></th>\n",
       "      <th>anos_empresa</th>\n",
       "      <th>anos_como_ceo</th>\n",
       "      <th>salario</th>\n",
       "      <th>vendas_totais</th>\n",
       "      <th>valuation</th>\n",
       "      <th>margem</th>\n",
       "    </tr>\n",
       "  </thead>\n",
       "  <tbody>\n",
       "    <tr>\n",
       "      <th>0</th>\n",
       "      <td>9</td>\n",
       "      <td>2</td>\n",
       "      <td>1161</td>\n",
       "      <td>6200</td>\n",
       "      <td>23200</td>\n",
       "      <td>15.6</td>\n",
       "    </tr>\n",
       "    <tr>\n",
       "      <th>1</th>\n",
       "      <td>10</td>\n",
       "      <td>10</td>\n",
       "      <td>600</td>\n",
       "      <td>283</td>\n",
       "      <td>1100</td>\n",
       "      <td>17.0</td>\n",
       "    </tr>\n",
       "    <tr>\n",
       "      <th>2</th>\n",
       "      <td>9</td>\n",
       "      <td>3</td>\n",
       "      <td>378</td>\n",
       "      <td>169</td>\n",
       "      <td>1100</td>\n",
       "      <td>23.7</td>\n",
       "    </tr>\n",
       "    <tr>\n",
       "      <th>3</th>\n",
       "      <td>22</td>\n",
       "      <td>22</td>\n",
       "      <td>650</td>\n",
       "      <td>1100</td>\n",
       "      <td>999</td>\n",
       "      <td>-4.9</td>\n",
       "    </tr>\n",
       "    <tr>\n",
       "      <th>4</th>\n",
       "      <td>8</td>\n",
       "      <td>6</td>\n",
       "      <td>496</td>\n",
       "      <td>350</td>\n",
       "      <td>387</td>\n",
       "      <td>8.0</td>\n",
       "    </tr>\n",
       "  </tbody>\n",
       "</table>\n",
       "</div>"
      ],
      "text/plain": [
       "   anos_empresa  anos_como_ceo  salario  vendas_totais  valuation  margem\n",
       "0             9              2     1161           6200      23200    15.6\n",
       "1            10             10      600            283       1100    17.0\n",
       "2             9              3      378            169       1100    23.7\n",
       "3            22             22      650           1100        999    -4.9\n",
       "4             8              6      496            350        387     8.0"
      ]
     },
     "execution_count": 5,
     "metadata": {},
     "output_type": "execute_result"
    }
   ],
   "source": [
    "df.head(5)"
   ]
  },
  {
   "cell_type": "markdown",
   "metadata": {},
   "source": [
    "### Comente sobre os sinais esperados dos coeficientes, justificando suas respostas. "
   ]
  },
  {
   "cell_type": "markdown",
   "metadata": {},
   "source": [
    "`Dica :` Faça uma análise de dispersão gráfica e usando matriz de correlação."
   ]
  },
  {
   "cell_type": "code",
   "execution_count": null,
   "metadata": {},
   "outputs": [],
   "source": [
    "# Análise de Dispersão Gráfica\n"
   ]
  },
  {
   "cell_type": "code",
   "execution_count": null,
   "metadata": {},
   "outputs": [],
   "source": [
    "# Matriz de Correlação\n"
   ]
  },
  {
   "cell_type": "markdown",
   "metadata": {},
   "source": [
    "Comentários sobre os Sinais Esperados do Coeficientes<br>\n",
    "Analisando os __gráficos de dispersão__ e a __matriz de correlação__, identificamos que:\n",
    "\n",
    "1. __Anos de Empresa__ : coeficiente positivo mas próximo de zero\n",
    "2. __Anos como CEO__ : \n",
    "3. __Vendas Totais__ :\n",
    "4. __Valuation__ : \n",
    "5. __Margem__ :"
   ]
  },
  {
   "cell_type": "markdown",
   "metadata": {},
   "source": [
    "### Ajuste um modelo de Regressão Linear Múltipla com as variáveis sugeridas pela consultoria"
   ]
  },
  {
   "cell_type": "code",
   "execution_count": null,
   "metadata": {},
   "outputs": [],
   "source": [
    "# Variável resposta\n",
    "\n",
    "# Variáveis explicativas\n",
    "\n",
    "# Ajusta o modelo e retorna os resultados\n"
   ]
  },
  {
   "cell_type": "markdown",
   "metadata": {},
   "source": [
    "### O sinal dos coeficientes estimados associados às variáveis `anos empresa` e `margem` estão de acordo com o esperado? Justifique."
   ]
  },
  {
   "cell_type": "markdown",
   "metadata": {},
   "source": []
  },
  {
   "cell_type": "markdown",
   "metadata": {},
   "source": [
    "### Avalie a qualidade do modelo de regressão linear múltipla proposto. Ele é estatísticamente significante?"
   ]
  },
  {
   "cell_type": "markdown",
   "metadata": {},
   "source": [
    "`Dica :` Verifique o R Quadrado ajustado do modelo e também o p-valor dos coeficientes."
   ]
  },
  {
   "cell_type": "markdown",
   "metadata": {},
   "source": []
  },
  {
   "cell_type": "markdown",
   "metadata": {},
   "source": [
    "### Realize os ajustes necessários no modelo, removendo variáveis que não sejam estatisticamente significantes até que o modelo resultante esteja adequado."
   ]
  },
  {
   "cell_type": "markdown",
   "metadata": {},
   "source": [
    "`Dica :` Quando for excluir variáveis explicativas, remova-as uma de cada vez para garantir que está realizando a análise correta para a remoção."
   ]
  },
  {
   "cell_type": "code",
   "execution_count": null,
   "metadata": {},
   "outputs": [],
   "source": [
    "# Variável resposta\n",
    "\n",
    "# Variáveis explicativas\n",
    "\n",
    "# Ajusta o modelo e retorna os resultados\n"
   ]
  },
  {
   "cell_type": "markdown",
   "metadata": {},
   "source": [
    "### Interprete os coeficientes do modelo em termos do problema de negócio."
   ]
  },
  {
   "cell_type": "markdown",
   "metadata": {},
   "source": []
  },
  {
   "cell_type": "markdown",
   "metadata": {},
   "source": [
    "### É possível melhorar a qualidade do ajuste do modelo? Isto é, melhorar o R Quadrado ajustado?"
   ]
  },
  {
   "cell_type": "markdown",
   "metadata": {},
   "source": [
    "`Dica :` Muitas vezes a variável resposta não é correlacionada linearmente com as variáveis explicativas (features). Isso acontece pois as features podem ter outra relação de linearidade, como por exemplo a log-linear. Desta forma, é útil tentar ajustar um modelo log-linear, da seguinte forma:"
   ]
  },
  {
   "cell_type": "markdown",
   "metadata": {},
   "source": [
    "log(salario) = ${\\beta}_{0}+{\\beta}_{1}*log(anos empresa) + {\\beta}_{2}*log(anos como ceo) + {\\beta}_{3}*log(vendas totais) + {\\beta}_{4}*log(valuation) + {\\beta}_{5}*log(margem)  $"
   ]
  },
  {
   "cell_type": "markdown",
   "metadata": {},
   "source": [
    "Nem todas as varíaves ficaram melhores usando log. Portanto, é útil misturar features com e sem transformações de log. Veja exemplo: "
   ]
  },
  {
   "cell_type": "markdown",
   "metadata": {},
   "source": [
    "log(salario) = ${\\beta}_{0}+{\\beta}_{1}*anos empresa + {\\beta}_{2}*anos como ceo+ {\\beta}_{3}*log(vendas totais) + {\\beta}_{4}*log(valuation) + {\\beta}_{5}*margem  $"
   ]
  },
  {
   "cell_type": "code",
   "execution_count": null,
   "metadata": {},
   "outputs": [],
   "source": [
    "df['ln_salario'] = np.log(df['salario'])\n",
    "df['ln_anos_empresa'] = np.log(df['anos_empresa']+1)\n",
    "df['ln_anos_como_ceo'] = np.log(df['anos_como_ceo']+1)\n",
    "df['ln_vendas_totais'] = np.log(df['vendas_totais']+1)\n",
    "df['ln_valuation'] = np.log(df['valuation']+1)\n",
    "df['ln_margem'] = np.log(df['margem']+1)"
   ]
  },
  {
   "cell_type": "code",
   "execution_count": null,
   "metadata": {},
   "outputs": [],
   "source": [
    "fig, ((ax1,ax2,ax3,ax4,ax5),\n",
    "      (ax6,ax7,ax8,ax9,ax10)) = plt.subplots(2,5,sharey=True,figsize=(15,5))\n",
    "\n",
    "ax1.scatter(df['anos_empresa'],df['salario']);\n",
    "ax2.scatter(df['anos_como_ceo'],df['salario']);\n",
    "ax3.scatter(df['vendas_totais'],df['salario']);\n",
    "ax4.scatter(df['valuation'],df['salario']);\n",
    "ax5.scatter(df['margem'],df['salario']);\n",
    "\n",
    "ax6.scatter(df['ln_anos_empresa'],df['salario'])\n",
    "ax7.scatter(df['ln_anos_como_ceo'],df['salario'])\n",
    "ax8.scatter(df['ln_vendas_totais'],df['salario'])\n",
    "ax9.scatter(df['ln_valuation'],df['salario'])\n",
    "ax10.scatter(df['ln_margem'],df['salario']);"
   ]
  },
  {
   "cell_type": "code",
   "execution_count": null,
   "metadata": {},
   "outputs": [],
   "source": [
    "fig, ((ax1,ax2,ax3,ax4,ax5),\n",
    "      (ax6,ax7,ax8,ax9,ax10)) = plt.subplots(2,5,sharey=True,figsize=(15,5))\n",
    "\n",
    "ax1.scatter(df['anos_empresa'],df['ln_salario'])\n",
    "ax2.scatter(df['anos_como_ceo'],df['ln_salario'])\n",
    "ax3.scatter(df['vendas_totais'],df['ln_salario'])\n",
    "ax4.scatter(df['valuation'],df['ln_salario'])\n",
    "ax5.scatter(df['margem'],df['ln_salario'])\n",
    "\n",
    "ax6.scatter(df['ln_anos_empresa'],df['ln_salario'])\n",
    "ax7.scatter(df['ln_anos_como_ceo'],df['ln_salario'])\n",
    "ax8.scatter(df['ln_vendas_totais'],df['ln_salario'])\n",
    "ax9.scatter(df['ln_valuation'],df['ln_salario'])\n",
    "ax10.scatter(df['ln_margem'],df['ln_salario']);"
   ]
  },
  {
   "cell_type": "code",
   "execution_count": null,
   "metadata": {},
   "outputs": [],
   "source": [
    "fig = plt.figure(figsize=(10,8))\n",
    "sns.heatmap(df.corr(),cmap='RdBu_r',annot=True);"
   ]
  },
  {
   "cell_type": "code",
   "execution_count": null,
   "metadata": {},
   "outputs": [],
   "source": [
    "# Variável resposta\n",
    "\n",
    "# Variáveis explicativas\n",
    "\n",
    "# Ajusta o modelo e retorna os resultados\n"
   ]
  },
  {
   "cell_type": "markdown",
   "metadata": {},
   "source": [
    "### Interprete os coeficientes do novo modelo utilizando as variáveis transformadas em termos do problema de negócio."
   ]
  },
  {
   "cell_type": "markdown",
   "metadata": {},
   "source": [
    "`Dica :` A interpretação de modelos que usam log mudam. Veja o resumo na tabela abaixo para guiar a interpretação dos coeficientes do modelo."
   ]
  },
  {
   "cell_type": "markdown",
   "metadata": {},
   "source": [
    "<p align='left'><img src=\"https://s3-sa-east-1.amazonaws.com/preditiva.ai/diversos/interpretacao_beta.png\"></p>"
   ]
  },
  {
   "cell_type": "markdown",
   "metadata": {},
   "source": []
  }
 ],
 "metadata": {
  "kernelspec": {
   "display_name": "Python 3",
   "language": "python",
   "name": "python3"
  },
  "language_info": {
   "codemirror_mode": {
    "name": "ipython",
    "version": 3
   },
   "file_extension": ".py",
   "mimetype": "text/x-python",
   "name": "python",
   "nbconvert_exporter": "python",
   "pygments_lexer": "ipython3",
   "version": "3.8.3"
  },
  "toc-autonumbering": true
 },
 "nbformat": 4,
 "nbformat_minor": 4
}
