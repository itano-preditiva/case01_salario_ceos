{
 "cells": [
  {
   "cell_type": "markdown",
   "metadata": {},
   "source": [
    "<img src=\"https://s3-sa-east-1.amazonaws.com/preditiva.ai/diversos/preditiva_assinatura.jpg\">\n",
    "\n",
    "# Regressão Linear Múltipla"
   ]
  },
  {
   "cell_type": "markdown",
   "metadata": {},
   "source": [
    "## Case 1: Salários de CEOs"
   ]
  },
  {
   "cell_type": "markdown",
   "metadata": {},
   "source": [
    "Uma consultoria americana foi contratada para estimar o efeito da valor de mercado sobre o salário do CEO de empresas americanas. O cliente sugeriu o seguinte modelo:"
   ]
  },
  {
   "cell_type": "markdown",
   "metadata": {},
   "source": [
    " salario = ${\\beta}_{0}+{\\beta}_{1}*anos empresa + {\\beta}_{2}*anos como ceo + {\\beta}_{3}*vendas totais + {\\beta}_{4}*valuation + {\\beta}_{5}*margem  $"
   ]
  },
  {
   "cell_type": "markdown",
   "metadata": {},
   "source": [
    "em que:\n",
    "\n",
    "`anos empresa` são os anos totais de trabalho na empresa;<br>\n",
    "`anos como ceo` são os anos de trabalhando como CEO na empresa;<br>\n",
    "`vendas totais` são as vendas totais da empresa, em milhões de dólares;<br>\n",
    "`valuation` é o valor de mercado da empresa, em milhões de dólares; ⁡<br>\n",
    "`margem` é o lucro como porcentagem das vendas;"
   ]
  },
  {
   "cell_type": "markdown",
   "metadata": {},
   "source": [
    "Com posse da base fornecida pelo cliente `salario_ceo.csv`, responda:\n",
    "\n",
    "**É possível estimar o salário de CEOs a partir das variáveis fornecidas?**"
   ]
  },
  {
   "cell_type": "markdown",
   "metadata": {},
   "source": [
    "### Importação das bibliotecas"
   ]
  },
  {
   "cell_type": "code",
   "execution_count": null,
   "metadata": {},
   "outputs": [],
   "source": [
    "# Pacotes de manipulação de dados\n",
    "import numpy as np\n",
    "import pandas as pd\n",
    "\n",
    "# Pacotes gráficos\n",
    "import matplotlib.pyplot as plt\n",
    "import seaborn as sns\n",
    "\n",
    "# Pacotes de data science\n",
    "import statsmodels.api as sm"
   ]
  },
  {
   "cell_type": "markdown",
   "metadata": {},
   "source": [
    "### Importação da base de dados"
   ]
  },
  {
   "cell_type": "code",
   "execution_count": null,
   "metadata": {},
   "outputs": [],
   "source": []
  },
  {
   "cell_type": "markdown",
   "metadata": {},
   "source": [
    "### Análise Exploratória de Dados"
   ]
  },
  {
   "cell_type": "code",
   "execution_count": null,
   "metadata": {},
   "outputs": [],
   "source": [
    "df.describe()"
   ]
  },
  {
   "cell_type": "markdown",
   "metadata": {},
   "source": [
    "### Comente sobre os sinais esperados dos coeficientes, justificando suas respostas. "
   ]
  },
  {
   "cell_type": "markdown",
   "metadata": {},
   "source": [
    "`Dica :` Faça uma análise de dispersão gráfica e usando matriz de correlação."
   ]
  },
  {
   "cell_type": "code",
   "execution_count": null,
   "metadata": {},
   "outputs": [],
   "source": [
    "# Análise de Dispersão Gráfica\n"
   ]
  },
  {
   "cell_type": "code",
   "execution_count": null,
   "metadata": {},
   "outputs": [],
   "source": [
    "# Matriz de Correlação\n"
   ]
  },
  {
   "cell_type": "markdown",
   "metadata": {},
   "source": [
    "Comentários sobre os Sinais Esperados do Coeficientes<br>\n",
    "Analisando os __gráficos de dispersão__ e a __matriz de correlação__, identificamos que:\n",
    "\n",
    "1. __Anos de Empresa__ : coeficiente positivo mas próximo de zero\n",
    "2. __Anos como CEO__ : \n",
    "3. __Vendas Totais__ :\n",
    "4. __Valuation__ : \n",
    "5. __Margem__ :"
   ]
  },
  {
   "cell_type": "markdown",
   "metadata": {},
   "source": [
    "### Ajuste um modelo de Regressão Linear Múltipla com as variáveis sugeridas pela consultoria"
   ]
  },
  {
   "cell_type": "code",
   "execution_count": null,
   "metadata": {},
   "outputs": [],
   "source": [
    "# Variável resposta\n",
    "\n",
    "# Variáveis explicativas\n",
    "\n",
    "# Ajusta o modelo e retorna os resultados\n"
   ]
  },
  {
   "cell_type": "markdown",
   "metadata": {},
   "source": [
    "### O sinal dos coeficientes estimados associados às variáveis `anos empresa` e `margem` estão de acordo com o esperado? Justifique."
   ]
  },
  {
   "cell_type": "markdown",
   "metadata": {},
   "source": []
  },
  {
   "cell_type": "markdown",
   "metadata": {},
   "source": [
    "### Avalie a qualidade do modelo de regressão linear múltipla proposto. Ele é estatísticamente significante?"
   ]
  },
  {
   "cell_type": "markdown",
   "metadata": {},
   "source": [
    "`Dica :` Verifique o R Quadrado ajustado do modelo e também o p-valor dos coeficientes."
   ]
  },
  {
   "cell_type": "markdown",
   "metadata": {},
   "source": []
  },
  {
   "cell_type": "markdown",
   "metadata": {},
   "source": [
    "### Realize os ajustes necessários no modelo, removendo variáveis que não sejam estatisticamente significantes até que o modelo resultante esteja adequado."
   ]
  },
  {
   "cell_type": "markdown",
   "metadata": {},
   "source": [
    "`Dica :` Quando for excluir variáveis explicativas, remova-as uma de cada vez para garantir que está realizando a análise correta para a remoção."
   ]
  },
  {
   "cell_type": "code",
   "execution_count": null,
   "metadata": {},
   "outputs": [],
   "source": [
    "# Variável resposta\n",
    "\n",
    "# Variáveis explicativas\n",
    "\n",
    "# Ajusta o modelo e retorna os resultados\n"
   ]
  },
  {
   "cell_type": "markdown",
   "metadata": {},
   "source": [
    "### Interprete os coeficientes do modelo em termos do problema de negócio."
   ]
  },
  {
   "cell_type": "markdown",
   "metadata": {},
   "source": []
  },
  {
   "cell_type": "markdown",
   "metadata": {},
   "source": [
    "### É possível melhorar a qualidade do ajuste do modelo? Isto é, melhorar o R Quadrado ajustado?"
   ]
  },
  {
   "cell_type": "markdown",
   "metadata": {},
   "source": [
    "`Dica :` Muitas vezes a variável resposta não é correlacionada linearmente com as variáveis explicativas (features). Isso acontece pois as features podem ter outra relação de linearidade, como por exemplo a log-linear. Desta forma, é útil tentar ajustar um modelo log-linear, da seguinte forma:"
   ]
  },
  {
   "cell_type": "markdown",
   "metadata": {},
   "source": [
    "log(salario) = ${\\beta}_{0}+{\\beta}_{1}*log(anos empresa) + {\\beta}_{2}*log(anos como ceo) + {\\beta}_{3}*log(vendas totais) + {\\beta}_{4}*log(valuation) + {\\beta}_{5}*log(margem)  $"
   ]
  },
  {
   "cell_type": "markdown",
   "metadata": {},
   "source": [
    "Nem todas as varíaves ficaram melhores usando log. Portanto, é útil misturar features com e sem transformações de log. Veja exemplo: "
   ]
  },
  {
   "cell_type": "markdown",
   "metadata": {},
   "source": [
    "log(salario) = ${\\beta}_{0}+{\\beta}_{1}*anos empresa + {\\beta}_{2}*anos como ceo+ {\\beta}_{3}*log(vendas totais) + {\\beta}_{4}*log(valuation) + {\\beta}_{5}*margem  $"
   ]
  },
  {
   "cell_type": "code",
   "execution_count": null,
   "metadata": {},
   "outputs": [],
   "source": [
    "df['ln_salario'] = np.log(df['salario'])\n",
    "df['ln_anos_empresa'] = np.log(df['anos_empresa']+1)\n",
    "df['ln_anos_como_ceo'] = np.log(df['anos_como_ceo']+1)\n",
    "df['ln_vendas_totais'] = np.log(df['vendas_totais']+1)\n",
    "df['ln_valuation'] = np.log(df['valuation']+1)\n",
    "df['ln_margem'] = np.log(df['margem']+1)"
   ]
  },
  {
   "cell_type": "code",
   "execution_count": null,
   "metadata": {},
   "outputs": [],
   "source": [
    "fig, ((ax1,ax2,ax3,ax4,ax5),\n",
    "      (ax6,ax7,ax8,ax9,ax10)) = plt.subplots(2,5,sharey=True,figsize=(15,5))\n",
    "\n",
    "ax1.scatter(df['anos_empresa'],df['salario']);\n",
    "ax2.scatter(df['anos_como_ceo'],df['salario']);\n",
    "ax3.scatter(df['vendas_totais'],df['salario']);\n",
    "ax4.scatter(df['valuation'],df['salario']);\n",
    "ax5.scatter(df['margem'],df['salario']);\n",
    "\n",
    "ax6.scatter(df['ln_anos_empresa'],df['salario'])\n",
    "ax7.scatter(df['ln_anos_como_ceo'],df['salario'])\n",
    "ax8.scatter(df['ln_vendas_totais'],df['salario'])\n",
    "ax9.scatter(df['ln_valuation'],df['salario'])\n",
    "ax10.scatter(df['ln_margem'],df['salario']);"
   ]
  },
  {
   "cell_type": "code",
   "execution_count": null,
   "metadata": {},
   "outputs": [],
   "source": [
    "fig, ((ax1,ax2,ax3,ax4,ax5),\n",
    "      (ax6,ax7,ax8,ax9,ax10)) = plt.subplots(2,5,sharey=True,figsize=(15,5))\n",
    "\n",
    "ax1.scatter(df['anos_empresa'],df['ln_salario'])\n",
    "ax2.scatter(df['anos_como_ceo'],df['ln_salario'])\n",
    "ax3.scatter(df['vendas_totais'],df['ln_salario'])\n",
    "ax4.scatter(df['valuation'],df['ln_salario'])\n",
    "ax5.scatter(df['margem'],df['ln_salario'])\n",
    "\n",
    "ax6.scatter(df['ln_anos_empresa'],df['ln_salario'])\n",
    "ax7.scatter(df['ln_anos_como_ceo'],df['ln_salario'])\n",
    "ax8.scatter(df['ln_vendas_totais'],df['ln_salario'])\n",
    "ax9.scatter(df['ln_valuation'],df['ln_salario'])\n",
    "ax10.scatter(df['ln_margem'],df['ln_salario']);"
   ]
  },
  {
   "cell_type": "code",
   "execution_count": null,
   "metadata": {},
   "outputs": [],
   "source": [
    "fig = plt.figure(figsize=(10,8))\n",
    "sns.heatmap(df.corr(),cmap='RdBu_r',annot=True);"
   ]
  },
  {
   "cell_type": "code",
   "execution_count": null,
   "metadata": {},
   "outputs": [],
   "source": [
    "# Variável resposta\n",
    "\n",
    "# Variáveis explicativas\n",
    "\n",
    "# Ajusta o modelo e retorna os resultados\n"
   ]
  },
  {
   "cell_type": "markdown",
   "metadata": {},
   "source": [
    "### Interprete os coeficientes do novo modelo utilizando as variáveis transformadas em termos do problema de negócio."
   ]
  },
  {
   "cell_type": "markdown",
   "metadata": {},
   "source": [
    "`Dica :` A interpretação de modelos que usam log mudam. Veja o resumo na tabela abaixo para guiar a interpretação dos coeficientes do modelo."
   ]
  },
  {
   "cell_type": "markdown",
   "metadata": {},
   "source": [
    "<p align='left'><img src=\"https://s3-sa-east-1.amazonaws.com/preditiva.ai/diversos/interpretacao_beta.png\"></p>"
   ]
  },
  {
   "cell_type": "markdown",
   "metadata": {},
   "source": []
  }
 ],
 "metadata": {
  "kernelspec": {
   "display_name": "Python 3",
   "language": "python",
   "name": "python3"
  },
  "language_info": {
   "codemirror_mode": {
    "name": "ipython",
    "version": 3
   },
   "file_extension": ".py",
   "mimetype": "text/x-python",
   "name": "python",
   "nbconvert_exporter": "python",
   "pygments_lexer": "ipython3",
   "version": "3.8.3"
  },
  "toc-autonumbering": true
 },
 "nbformat": 4,
 "nbformat_minor": 4
}
